{
 "cells": [
  {
   "cell_type": "code",
   "execution_count": 1,
   "metadata": {},
   "outputs": [],
   "source": [
    "import pandas as pd\n",
    "pd.set_option('display.max_columns', None)   \n",
    "pd.set_option('display.max_rows', None)"
   ]
  },
  {
   "cell_type": "code",
   "execution_count": 2,
   "metadata": {},
   "outputs": [],
   "source": [
    "#Cargamos las listas y las unimos\n",
    "lista2017=pd.read_csv('../data/lista2017.csv')\n",
    "lista2018=pd.read_csv('../data/lista2018.csv')\n",
    "lista2019=pd.read_csv('../data/lista2019.csv')\n",
    "lista2020=pd.read_csv('../data/lista2020.csv')\n",
    "lista2021=pd.read_csv('../data/lista2021.csv')\n",
    "lista2022=pd.read_csv('../data/lista2022.csv')\n",
    "\n",
    "lst=[lista2017,lista2018,lista2019,lista2020,lista2021,lista2022]\n",
    "listas=pd.concat(lst)\n"
   ]
  },
  {
   "cell_type": "code",
   "execution_count": null,
   "metadata": {},
   "outputs": [],
   "source": [
    "#Hacemos una copia de seguridad y cortamos la ista de artistas para cruzarla con las de estilo\n",
    "\n",
    "listas1=listas.copy()\n",
    "listas1['cruce']=listas1.artist_names.apply(lambda x:x.split(',')[0])\n",
    "listas1.head()"
   ]
  },
  {
   "cell_type": "code",
   "execution_count": 36,
   "metadata": {},
   "outputs": [],
   "source": [
    "#Cargamos autores\n",
    "autores=pd.read_excel('../data/autores.xls')"
   ]
  },
  {
   "cell_type": "code",
   "execution_count": 71,
   "metadata": {},
   "outputs": [],
   "source": [
    "#Mergeamos las listas\n",
    "\n",
    "pp=pd.merge(listas1,autores, left_on=\"cruce\", right_on='autor', how='left')"
   ]
  },
  {
   "cell_type": "code",
   "execution_count": 73,
   "metadata": {},
   "outputs": [],
   "source": [
    "#Damos de baja las columnas que no vamos a necesitar\n",
    "pp.drop(columns=['autor','cruce','Unnamed: 2'], inplace=True)"
   ]
  },
  {
   "cell_type": "code",
   "execution_count": 74,
   "metadata": {},
   "outputs": [],
   "source": [
    "#Eliminamos duplicados con los mismos datos en estas columnas\n",
    "pp=pp.drop_duplicates(subset=['fecha','track_name'])"
   ]
  },
  {
   "cell_type": "code",
   "execution_count": 77,
   "metadata": {},
   "outputs": [],
   "source": [
    "#Guardamos la lista ya definitiva\n",
    "pp.to_csv('../data/lista_definitiva.csv',index=False,index_label=False)"
   ]
  },
  {
   "cell_type": "code",
   "execution_count": 8,
   "metadata": {},
   "outputs": [],
   "source": [
    "pp=pd.read_csv('../data/lista_definitiva.csv')\n"
   ]
  },
  {
   "cell_type": "code",
   "execution_count": 9,
   "metadata": {},
   "outputs": [
    {
     "name": "stderr",
     "output_type": "stream",
     "text": [
      "C:\\Users\\sersu\\AppData\\Local\\Temp\\ipykernel_154628\\1072570983.py:5: SettingWithCopyWarning: \n",
      "A value is trying to be set on a copy of a slice from a DataFrame\n",
      "\n",
      "See the caveats in the documentation: https://pandas.pydata.org/pandas-docs/stable/user_guide/indexing.html#returning-a-view-versus-a-copy\n",
      "  pp.aut[i]=pp.track_name[i]+ ' , '+ pp.artist_names[i].split(',')[0]\n"
     ]
    }
   ],
   "source": [
    "pp.drop_duplicates(subset='track_name', inplace=True)\n",
    "pp.reset_index(drop=True,inplace=True)\n",
    "pp['aut']=pp.artist_names\n",
    "for i in range(len(pp.aut)):\n",
    "    pp.aut[i]=pp.track_name[i]+ ' , '+ pp.artist_names[i].split(',')[0]"
   ]
  },
  {
   "cell_type": "code",
   "execution_count": 10,
   "metadata": {},
   "outputs": [
    {
     "name": "stderr",
     "output_type": "stream",
     "text": [
      "C:\\Users\\sersu\\AppData\\Local\\Temp\\ipykernel_154628\\177589661.py:1: FutureWarning: As the xlwt package is no longer maintained, the xlwt engine will be removed in a future version of pandas. This is the only engine in pandas that supports writing in the xls format. Install openpyxl and write to an xlsx file instead. You can set the option io.excel.xls.writer to 'xlwt' to silence this warning. While this option is deprecated and will also raise a warning, it can be globally set and the warning suppressed.\n",
      "  pp.to_excel('../data/canciones.xls')\n"
     ]
    }
   ],
   "source": [
    "pp.to_excel('../data/canciones.xls')"
   ]
  },
  {
   "cell_type": "code",
   "execution_count": 5,
   "metadata": {},
   "outputs": [],
   "source": [
    "canciones=pp.track_name"
   ]
  },
  {
   "cell_type": "code",
   "execution_count": 6,
   "metadata": {},
   "outputs": [
    {
     "data": {
      "text/plain": [
       "432335"
      ]
     },
     "execution_count": 6,
     "metadata": {},
     "output_type": "execute_result"
    }
   ],
   "source": [
    "len(canciones)"
   ]
  },
  {
   "cell_type": "code",
   "execution_count": 12,
   "metadata": {},
   "outputs": [
    {
     "name": "stderr",
     "output_type": "stream",
     "text": [
      "C:\\Users\\sersu\\AppData\\Local\\Temp\\ipykernel_160060\\925794256.py:3: FutureWarning: As the xlwt package is no longer maintained, the xlwt engine will be removed in a future version of pandas. This is the only engine in pandas that supports writing in the xls format. Install openpyxl and write to an xlsx file instead. You can set the option io.excel.xls.writer to 'xlwt' to silence this warning. While this option is deprecated and will also raise a warning, it can be globally set and the warning suppressed.\n",
      "  cancionero.to_excel('../data/canciones.xls')\n"
     ]
    }
   ],
   "source": [
    "canciones=list(set(canciones))\n",
    "cancionero=pd.DataFrame(canciones)\n",
    "cancionero.to_excel('../data/canciones.xls')"
   ]
  },
  {
   "cell_type": "code",
   "execution_count": null,
   "metadata": {},
   "outputs": [],
   "source": []
  }
 ],
 "metadata": {
  "kernelspec": {
   "display_name": "base",
   "language": "python",
   "name": "python3"
  },
  "language_info": {
   "codemirror_mode": {
    "name": "ipython",
    "version": 3
   },
   "file_extension": ".py",
   "mimetype": "text/x-python",
   "name": "python",
   "nbconvert_exporter": "python",
   "pygments_lexer": "ipython3",
   "version": "3.9.12 (main, Apr  4 2022, 05:22:27) [MSC v.1916 64 bit (AMD64)]"
  },
  "orig_nbformat": 4,
  "vscode": {
   "interpreter": {
    "hash": "1551151381e773f0aad4d7f5dd85d557969b09f98d8f1647db122078155b292b"
   }
  }
 },
 "nbformat": 4,
 "nbformat_minor": 2
}
