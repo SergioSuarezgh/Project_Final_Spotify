{
 "cells": [
  {
   "cell_type": "code",
   "execution_count": 1,
   "metadata": {},
   "outputs": [],
   "source": [
    "from selenium import webdriver\n",
    "from selenium.webdriver.common.by import By\n",
    "\n",
    "from selenium.webdriver.chrome.options import Options\n",
    "\n",
    "from selenium.webdriver.support import expected_conditions as EC  # condiciones esperadas...\n",
    "\n",
    "from selenium.webdriver import ActionChains as AC   # acciones encadenadas, rollo doble click\n",
    "\n",
    "from selenium.webdriver.common.keys import Keys  # manejar teclas\n",
    "\n",
    "import time\n",
    "\n",
    "import pandas as pd\n",
    "pd.set_option('display.max_columns', None)   \n",
    "pd.set_option('display.max_rows', None)\n",
    "\n",
    "from webdriver_manager.chrome import ChromeDriverManager\n",
    "\n",
    "PATH=ChromeDriverManager().install()\n",
    "\n",
    "import warnings\n",
    "warnings.filterwarnings('ignore')\n",
    "\n",
    "opciones=Options()\n",
    "\n",
    "# quita la bandera de ser robot\n",
    "opciones.add_experimental_option('excludeSwitches', ['enable-automation'])\n",
    "opciones.add_experimental_option('useAutomationExtension', False)\n",
    "\n",
    "opciones.headless=False   # si True, no aparece la ventana (headless=no visible)\n",
    "\n",
    "opciones.add_argument('--start-maximized')         # comienza maximizado\n",
    "\n",
    "#opciones.add_extension('driver/adblock.crx')       # adblocker\n",
    "\n",
    "opciones.add_argument('user-data-dir=selenium')    # mantiene las coockies\n",
    "\n",
    "import Utils\n",
    "from datetime import date\n",
    "\n",
    "from decouple import config\n",
    "user_spoty = config('user_spoty', default='')\n",
    "pass_spoty = config('pass_spoty', default='')\n",
    "\n",
    "from joblib import Parallel, delayed\n"
   ]
  },
  {
   "cell_type": "code",
   "execution_count": 2,
   "metadata": {},
   "outputs": [],
   "source": [
    "#Cargamos los csv de los autores que hemos recopilados\n",
    "\n",
    "autores1=pd.read_csv('../data/autores.csv')\n",
    "autores2=pd.read_csv('../data/autores_2.csv')\n",
    "autores3=pd.read_csv('../data/autores_3.csv')\n",
    "lst=[autores1,autores2,autores3]\n",
    "autores=pd.concat(lst)"
   ]
  },
  {
   "cell_type": "code",
   "execution_count": 22,
   "metadata": {},
   "outputs": [],
   "source": [
    "csvs=['2017','2018','2019','2020','2021','2022']\n",
    "autores=[]\n",
    "lst_autores=[]\n",
    "tmp=[]\n",
    "\n",
    "#Pasamos la lista de los csvs y los cortamos por la coma para separar a los autores y los recorremos y guardamos\n",
    "import re\n",
    "\n",
    "for i in csvs:\n",
    "    lista_globa_spoty=pd.read_csv(f'../data/lista{i}.csv')\n",
    "    for autor in lista_globa_spoty.artist_names:\n",
    "    \n",
    "        autor.strip()\n",
    "        palabra=autor.split(',')\n",
    "    \n",
    "    \n",
    "        for i in range(len(palabra)):\n",
    "            autores.append(palabra[i])\n",
    "        \n",
    "    lst_autores.append(autores)"
   ]
  },
  {
   "cell_type": "code",
   "execution_count": 23,
   "metadata": {},
   "outputs": [
    {
     "data": {
      "text/plain": [
       "4264248"
      ]
     },
     "execution_count": 23,
     "metadata": {},
     "output_type": "execute_result"
    }
   ],
   "source": [
    "#Unimos a todos los autores en un sola fila\n",
    "lst_prueba=[]\n",
    "lst_prueba.extend(lst_autores[0])\n",
    "lst_prueba.extend(lst_autores[1])\n",
    "lst_prueba.extend(lst_autores[2])\n",
    "lst_prueba.extend(lst_autores[3])\n",
    "lst_prueba.extend(lst_autores[4])\n",
    "lst_prueba.extend(lst_autores[5])\n",
    "\n",
    "len(lst_prueba)"
   ]
  },
  {
   "cell_type": "code",
   "execution_count": 24,
   "metadata": {},
   "outputs": [],
   "source": [
    "lst_prueba=list(set(lst_prueba))"
   ]
  },
  {
   "cell_type": "code",
   "execution_count": 25,
   "metadata": {},
   "outputs": [
    {
     "data": {
      "text/plain": [
       "2915"
      ]
     },
     "execution_count": 25,
     "metadata": {},
     "output_type": "execute_result"
    }
   ],
   "source": [
    "len(lst_prueba)"
   ]
  },
  {
   "cell_type": "code",
   "execution_count": 19,
   "metadata": {},
   "outputs": [],
   "source": [
    "#Guardamos los datos en un dataframe\n",
    "uniooon=pd.DataFrame(lst_prueba, columns=['autor'])\n",
    "uniooon.to_excel('../data/autores.xls',index=False,index_label=False)"
   ]
  },
  {
   "cell_type": "code",
   "execution_count": 41,
   "metadata": {},
   "outputs": [],
   "source": [
    "#Esta función recopila los estilos de la página indicada por autor y lo guardamos\n",
    "\n",
    "def extraer_autores(autor):\n",
    "    \n",
    "    driver=webdriver.Chrome(PATH)\n",
    "    driver.get('https://everynoise.com/engenremap.html')\n",
    "    \n",
    "    time.sleep(2)\n",
    "    iframe=driver.find_element(By.XPATH, '/html/body/iframe')\n",
    "\n",
    "    driver.switch_to.frame(iframe)\n",
    "    \n",
    "    input_autor=driver.find_element(By.XPATH, '/html/body/form/input[1]')\n",
    "    \n",
    "    time.sleep(2)\n",
    "    \n",
    "    input_autor.send_keys(str(autor))  # escribe texto\n",
    "\n",
    "    input_autor.send_keys(u'\\ue007')  # tecla ENTER\n",
    "\n",
    "    time.sleep(2)\n",
    "    \n",
    "    datos=driver.find_element(By.XPATH,'/html/body/div').text\n",
    "    \n",
    "    \n",
    "    \n",
    "    \n",
    "    cadena_final=datos\n",
    "    \n",
    "    #cadena_final=pd.DataFrame(cadena_final)\n",
    "    \n",
    "    driver.quit()\n",
    "    \n",
    "    return cadena_final"
   ]
  },
  {
   "cell_type": "code",
   "execution_count": 53,
   "metadata": {},
   "outputs": [],
   "source": [
    "#Ejecutamos la función \n",
    "\n",
    "driver=webdriver.Chrome(PATH)\n",
    "driver.get('https://everynoise.com/engenremap.html')\n",
    "    \n",
    "time.sleep(2)\n",
    "iframe=driver.find_element(By.XPATH, '/html/body/iframe')\n",
    "\n",
    "driver.switch_to.frame(iframe)\n",
    "ttt=[]\n",
    "for i in lst_prueba[670:]:\n",
    "    \n",
    "    ttt.append(extraer_autores(i))"
   ]
  },
  {
   "cell_type": "code",
   "execution_count": 46,
   "metadata": {},
   "outputs": [
    {
     "data": {
      "text/plain": [
       "670"
      ]
     },
     "execution_count": 46,
     "metadata": {},
     "output_type": "execute_result"
    }
   ],
   "source": [
    "len(ttt)"
   ]
  },
  {
   "cell_type": "code",
   "execution_count": 48,
   "metadata": {},
   "outputs": [],
   "source": [
    "#Cruzamos los datos del dataframe con los estilos y el de los autores\n",
    "\n",
    "\n",
    "uniooon=pd.DataFrame(columns=['autor','estilo'])\n",
    "for a,e in zip(lst_prueba[:671],ttt):\n",
    "    uniooon=uniooon.append({'autor':a, 'estilo':e},ignore_index=True)"
   ]
  },
  {
   "cell_type": "code",
   "execution_count": 49,
   "metadata": {},
   "outputs": [],
   "source": [
    "#Guardamos el dataframe con los dos datos\n",
    "uniooon.to_csv('../data/autores_1.csv',index=False,index_label=False)"
   ]
  },
  {
   "cell_type": "code",
   "execution_count": 2,
   "metadata": {},
   "outputs": [],
   "source": [
    "def shazam(canciones):\n",
    "    try:\n",
    "        driver=webdriver.Chrome(PATH)\n",
    "        driver.get('https://www.shazam.com/es-es')\n",
    "\n",
    "        time.sleep(2)\n",
    "\n",
    "        driver.maximize_window()\n",
    "\n",
    "        time.sleep(5)\n",
    "\n",
    "        caja=driver.find_element(By.XPATH,'/html/body/div[4]/header/div/div[1]/div[2]/div[1]/div/div[1]/form/input')\n",
    "\n",
    "        #driver.execute_script(\"arguments[0].style.aria-expanded = 'true'\", marco)\n",
    "        time.sleep(5)\n",
    "\n",
    "\n",
    "        caja.send_keys(canciones)\n",
    "\n",
    "\n",
    "        caja.send_keys(u'\\ue007') \n",
    "\n",
    "        time.sleep(5)\n",
    "\n",
    "        cancion=driver.find_element(By.XPATH,'/html/body/div[4]/header/div/div[1]/div[2]/div[1]/div/div[1]/form/div[2]/div[2]/div[3]/div[2]/a').click()\n",
    "\n",
    "        time.sleep(5)\n",
    "\n",
    "        can=driver.find_element(By.XPATH,'/html/body/div[4]/div/main/div/div[1]/div/article[2]/div[2]/div[2]/div[1]/div/div/h3').text\n",
    "        \n",
    "        time.sleep(3)\n",
    "        driver.quit()\n",
    "        division_canciones=canciones.split(',')\n",
    "        \n",
    "        dict_cancion={'cancion':division_canciones[0], 'artista': division_canciones[1], 'estilo': can}\n",
    "        \n",
    "        df=pd.DataFrame([dict_cancion])\n",
    "    except:\n",
    "        dict_cancion={'cancion':division_canciones[0], 'artista': division_canciones[1], 'estilo': 'error'}\n",
    "        df=pd.DataFrame([dict_cancion])\n",
    "        \n",
    "        \n",
    "    \n",
    "    return df"
   ]
  },
  {
   "cell_type": "code",
   "execution_count": 3,
   "metadata": {},
   "outputs": [],
   "source": [
    "canciones=pd.read_excel('../data/canciones.xls')\n"
   ]
  },
  {
   "cell_type": "code",
   "execution_count": 6,
   "metadata": {},
   "outputs": [
    {
     "data": {
      "text/html": [
       "<div>\n",
       "<style scoped>\n",
       "    .dataframe tbody tr th:only-of-type {\n",
       "        vertical-align: middle;\n",
       "    }\n",
       "\n",
       "    .dataframe tbody tr th {\n",
       "        vertical-align: top;\n",
       "    }\n",
       "\n",
       "    .dataframe thead th {\n",
       "        text-align: right;\n",
       "    }\n",
       "</style>\n",
       "<table border=\"1\" class=\"dataframe\">\n",
       "  <thead>\n",
       "    <tr style=\"text-align: right;\">\n",
       "      <th></th>\n",
       "      <th>cancion</th>\n",
       "      <th>artista</th>\n",
       "      <th>estilo</th>\n",
       "    </tr>\n",
       "  </thead>\n",
       "  <tbody>\n",
       "    <tr>\n",
       "      <th>0</th>\n",
       "      <td>Starboy</td>\n",
       "      <td>the weeknd</td>\n",
       "      <td>R&amp;B/Soul</td>\n",
       "    </tr>\n",
       "  </tbody>\n",
       "</table>\n",
       "</div>"
      ],
      "text/plain": [
       "    cancion      artista    estilo\n",
       "0  Starboy    the weeknd  R&B/Soul"
      ]
     },
     "execution_count": 6,
     "metadata": {},
     "output_type": "execute_result"
    }
   ],
   "source": [
    "hol=shazam(canciones.aut[0])\n",
    "hol"
   ]
  },
  {
   "cell_type": "code",
   "execution_count": 25,
   "metadata": {},
   "outputs": [
    {
     "data": {
      "text/plain": [
       "'Starboy the weeknd'"
      ]
     },
     "execution_count": 25,
     "metadata": {},
     "output_type": "execute_result"
    }
   ],
   "source": [
    "canciones.aut[0]"
   ]
  },
  {
   "cell_type": "code",
   "execution_count": 4,
   "metadata": {},
   "outputs": [],
   "source": [
    "lst_canciones=canciones.aut"
   ]
  },
  {
   "cell_type": "code",
   "execution_count": 5,
   "metadata": {},
   "outputs": [
    {
     "data": {
      "application/vnd.jupyter.widget-view+json": {
       "model_id": "4744738632e04cc39590c0d6c4166bae",
       "version_major": 2,
       "version_minor": 0
      },
      "text/plain": [
       "  0%|          | 0/500 [00:00<?, ?it/s]"
      ]
     },
     "metadata": {},
     "output_type": "display_data"
    },
    {
     "name": "stderr",
     "output_type": "stream",
     "text": [
      "[Parallel(n_jobs=-1)]: Using backend LokyBackend with 6 concurrent workers.\n"
     ]
    },
    {
     "ename": "UnboundLocalError",
     "evalue": "local variable 'division_canciones' referenced before assignment",
     "output_type": "error",
     "traceback": [
      "\u001b[1;31m---------------------------------------------------------------------------\u001b[0m",
      "\u001b[1;31m_RemoteTraceback\u001b[0m                          Traceback (most recent call last)",
      "\u001b[1;31m_RemoteTraceback\u001b[0m: \n\"\"\"\nTraceback (most recent call last):\n  File \"C:\\Users\\sersu\\AppData\\Local\\Temp\\ipykernel_161260\\1325270771.py\", line 25, in shazam\n  File \"c:\\Users\\sersu\\anaconda3\\lib\\site-packages\\selenium\\webdriver\\remote\\webelement.py\", line 93, in click\n    self._execute(Command.CLICK_ELEMENT)\n  File \"c:\\Users\\sersu\\anaconda3\\lib\\site-packages\\selenium\\webdriver\\remote\\webelement.py\", line 410, in _execute\n    return self._parent.execute(command, params)\n  File \"c:\\Users\\sersu\\anaconda3\\lib\\site-packages\\selenium\\webdriver\\remote\\webdriver.py\", line 444, in execute\n    self.error_handler.check_response(response)\n  File \"c:\\Users\\sersu\\anaconda3\\lib\\site-packages\\selenium\\webdriver\\remote\\errorhandler.py\", line 249, in check_response\n    raise exception_class(message, screen, stacktrace)\nselenium.common.exceptions.StaleElementReferenceException: Message: stale element reference: element is not attached to the page document\n  (Session info: chrome=108.0.5359.124)\nStacktrace:\nBacktrace:\n\t(No symbol) [0x00D0F243]\n\t(No symbol) [0x00C97FD1]\n\t(No symbol) [0x00B8D04D]\n\t(No symbol) [0x00B8FD34]\n\t(No symbol) [0x00B8FBE5]\n\t(No symbol) [0x00B8FE80]\n\t(No symbol) [0x00BBDA74]\n\t(No symbol) [0x00BB311D]\n\t(No symbol) [0x00BD858C]\n\t(No symbol) [0x00BB2BFF]\n\t(No symbol) [0x00BD8804]\n\t(No symbol) [0x00BEC9EB]\n\t(No symbol) [0x00BD8386]\n\t(No symbol) [0x00BB163C]\n\t(No symbol) [0x00BB269D]\n\tGetHandleVerifier [0x00FA9A22+2655074]\n\tGetHandleVerifier [0x00F9CA24+2601828]\n\tGetHandleVerifier [0x00DB8C0A+619850]\n\tGetHandleVerifier [0x00DB7830+614768]\n\t(No symbol) [0x00CA05FC]\n\t(No symbol) [0x00CA5968]\n\t(No symbol) [0x00CA5A55]\n\t(No symbol) [0x00CB051B]\n\tBaseThreadInitThunk [0x76287BA9+25]\n\tRtlInitializeExceptionChain [0x7716BB9B+107]\n\tRtlClearBits [0x7716BB1F+191]\n\n\nDuring handling of the above exception, another exception occurred:\n\nTraceback (most recent call last):\n  File \"c:\\Users\\sersu\\anaconda3\\lib\\site-packages\\joblib\\externals\\loky\\process_executor.py\", line 436, in _process_worker\n    r = call_item()\n  File \"c:\\Users\\sersu\\anaconda3\\lib\\site-packages\\joblib\\externals\\loky\\process_executor.py\", line 288, in __call__\n    return self.fn(*self.args, **self.kwargs)\n  File \"c:\\Users\\sersu\\anaconda3\\lib\\site-packages\\joblib\\_parallel_backends.py\", line 595, in __call__\n    return self.func(*args, **kwargs)\n  File \"c:\\Users\\sersu\\anaconda3\\lib\\site-packages\\joblib\\parallel.py\", line 262, in __call__\n    return [func(*args, **kwargs)\n  File \"c:\\Users\\sersu\\anaconda3\\lib\\site-packages\\joblib\\parallel.py\", line 262, in <listcomp>\n    return [func(*args, **kwargs)\n  File \"C:\\Users\\sersu\\AppData\\Local\\Temp\\ipykernel_161260\\1325270771.py\", line 39, in shazam\nUnboundLocalError: local variable 'division_canciones' referenced before assignment\n\"\"\"",
      "\nThe above exception was the direct cause of the following exception:\n",
      "\u001b[1;31mUnboundLocalError\u001b[0m                         Traceback (most recent call last)",
      "\u001b[1;32mc:\\Users\\sersu\\IRONHACK\\Project_Final_Spotify\\src\\tratamiento_autores.ipynb Celda 18\u001b[0m in \u001b[0;36m<cell line: 2>\u001b[1;34m()\u001b[0m\n\u001b[0;32m      <a href='vscode-notebook-cell:/c%3A/Users/sersu/IRONHACK/Project_Final_Spotify/src/tratamiento_autores.ipynb#X23sZmlsZQ%3D%3D?line=0'>1</a>\u001b[0m \u001b[39mfrom\u001b[39;00m \u001b[39mtqdm\u001b[39;00m\u001b[39m.\u001b[39;00m\u001b[39mnotebook\u001b[39;00m \u001b[39mimport\u001b[39;00m tqdm \n\u001b[1;32m----> <a href='vscode-notebook-cell:/c%3A/Users/sersu/IRONHACK/Project_Final_Spotify/src/tratamiento_autores.ipynb#X23sZmlsZQ%3D%3D?line=1'>2</a>\u001b[0m lst_df\u001b[39m=\u001b[39mParallel(n_jobs\u001b[39m=\u001b[39;49m\u001b[39m-\u001b[39;49m\u001b[39m1\u001b[39;49m, verbose\u001b[39m=\u001b[39;49m\u001b[39mTrue\u001b[39;49;00m)(delayed(shazam)(cancion) \u001b[39mfor\u001b[39;49;00m cancion \u001b[39min\u001b[39;49;00m tqdm(lst_canciones[:\u001b[39m500\u001b[39;49m]))\n",
      "File \u001b[1;32mc:\\Users\\sersu\\anaconda3\\lib\\site-packages\\joblib\\parallel.py:1056\u001b[0m, in \u001b[0;36mParallel.__call__\u001b[1;34m(self, iterable)\u001b[0m\n\u001b[0;32m   1053\u001b[0m     \u001b[39mself\u001b[39m\u001b[39m.\u001b[39m_iterating \u001b[39m=\u001b[39m \u001b[39mFalse\u001b[39;00m\n\u001b[0;32m   1055\u001b[0m \u001b[39mwith\u001b[39;00m \u001b[39mself\u001b[39m\u001b[39m.\u001b[39m_backend\u001b[39m.\u001b[39mretrieval_context():\n\u001b[1;32m-> 1056\u001b[0m     \u001b[39mself\u001b[39;49m\u001b[39m.\u001b[39;49mretrieve()\n\u001b[0;32m   1057\u001b[0m \u001b[39m# Make sure that we get a last message telling us we are done\u001b[39;00m\n\u001b[0;32m   1058\u001b[0m elapsed_time \u001b[39m=\u001b[39m time\u001b[39m.\u001b[39mtime() \u001b[39m-\u001b[39m \u001b[39mself\u001b[39m\u001b[39m.\u001b[39m_start_time\n",
      "File \u001b[1;32mc:\\Users\\sersu\\anaconda3\\lib\\site-packages\\joblib\\parallel.py:935\u001b[0m, in \u001b[0;36mParallel.retrieve\u001b[1;34m(self)\u001b[0m\n\u001b[0;32m    933\u001b[0m \u001b[39mtry\u001b[39;00m:\n\u001b[0;32m    934\u001b[0m     \u001b[39mif\u001b[39;00m \u001b[39mgetattr\u001b[39m(\u001b[39mself\u001b[39m\u001b[39m.\u001b[39m_backend, \u001b[39m'\u001b[39m\u001b[39msupports_timeout\u001b[39m\u001b[39m'\u001b[39m, \u001b[39mFalse\u001b[39;00m):\n\u001b[1;32m--> 935\u001b[0m         \u001b[39mself\u001b[39m\u001b[39m.\u001b[39m_output\u001b[39m.\u001b[39mextend(job\u001b[39m.\u001b[39;49mget(timeout\u001b[39m=\u001b[39;49m\u001b[39mself\u001b[39;49m\u001b[39m.\u001b[39;49mtimeout))\n\u001b[0;32m    936\u001b[0m     \u001b[39melse\u001b[39;00m:\n\u001b[0;32m    937\u001b[0m         \u001b[39mself\u001b[39m\u001b[39m.\u001b[39m_output\u001b[39m.\u001b[39mextend(job\u001b[39m.\u001b[39mget())\n",
      "File \u001b[1;32mc:\\Users\\sersu\\anaconda3\\lib\\site-packages\\joblib\\_parallel_backends.py:542\u001b[0m, in \u001b[0;36mLokyBackend.wrap_future_result\u001b[1;34m(future, timeout)\u001b[0m\n\u001b[0;32m    539\u001b[0m \u001b[39m\"\"\"Wrapper for Future.result to implement the same behaviour as\u001b[39;00m\n\u001b[0;32m    540\u001b[0m \u001b[39mAsyncResults.get from multiprocessing.\"\"\"\u001b[39;00m\n\u001b[0;32m    541\u001b[0m \u001b[39mtry\u001b[39;00m:\n\u001b[1;32m--> 542\u001b[0m     \u001b[39mreturn\u001b[39;00m future\u001b[39m.\u001b[39;49mresult(timeout\u001b[39m=\u001b[39;49mtimeout)\n\u001b[0;32m    543\u001b[0m \u001b[39mexcept\u001b[39;00m CfTimeoutError \u001b[39mas\u001b[39;00m e:\n\u001b[0;32m    544\u001b[0m     \u001b[39mraise\u001b[39;00m \u001b[39mTimeoutError\u001b[39;00m \u001b[39mfrom\u001b[39;00m \u001b[39me\u001b[39;00m\n",
      "File \u001b[1;32mc:\\Users\\sersu\\anaconda3\\lib\\concurrent\\futures\\_base.py:439\u001b[0m, in \u001b[0;36mFuture.result\u001b[1;34m(self, timeout)\u001b[0m\n\u001b[0;32m    437\u001b[0m     \u001b[39mraise\u001b[39;00m CancelledError()\n\u001b[0;32m    438\u001b[0m \u001b[39melif\u001b[39;00m \u001b[39mself\u001b[39m\u001b[39m.\u001b[39m_state \u001b[39m==\u001b[39m FINISHED:\n\u001b[1;32m--> 439\u001b[0m     \u001b[39mreturn\u001b[39;00m \u001b[39mself\u001b[39;49m\u001b[39m.\u001b[39;49m__get_result()\n\u001b[0;32m    441\u001b[0m \u001b[39mself\u001b[39m\u001b[39m.\u001b[39m_condition\u001b[39m.\u001b[39mwait(timeout)\n\u001b[0;32m    443\u001b[0m \u001b[39mif\u001b[39;00m \u001b[39mself\u001b[39m\u001b[39m.\u001b[39m_state \u001b[39min\u001b[39;00m [CANCELLED, CANCELLED_AND_NOTIFIED]:\n",
      "File \u001b[1;32mc:\\Users\\sersu\\anaconda3\\lib\\concurrent\\futures\\_base.py:391\u001b[0m, in \u001b[0;36mFuture.__get_result\u001b[1;34m(self)\u001b[0m\n\u001b[0;32m    389\u001b[0m \u001b[39mif\u001b[39;00m \u001b[39mself\u001b[39m\u001b[39m.\u001b[39m_exception:\n\u001b[0;32m    390\u001b[0m     \u001b[39mtry\u001b[39;00m:\n\u001b[1;32m--> 391\u001b[0m         \u001b[39mraise\u001b[39;00m \u001b[39mself\u001b[39m\u001b[39m.\u001b[39m_exception\n\u001b[0;32m    392\u001b[0m     \u001b[39mfinally\u001b[39;00m:\n\u001b[0;32m    393\u001b[0m         \u001b[39m# Break a reference cycle with the exception in self._exception\u001b[39;00m\n\u001b[0;32m    394\u001b[0m         \u001b[39mself\u001b[39m \u001b[39m=\u001b[39m \u001b[39mNone\u001b[39;00m\n",
      "\u001b[1;31mUnboundLocalError\u001b[0m: local variable 'division_canciones' referenced before assignment"
     ]
    }
   ],
   "source": [
    "from tqdm.notebook import tqdm \n",
    "lst_df=Parallel(n_jobs=-1, verbose=True)(delayed(shazam)(cancion) for cancion in tqdm(lst_canciones[:500]))"
   ]
  }
 ],
 "metadata": {
  "kernelspec": {
   "display_name": "base",
   "language": "python",
   "name": "python3"
  },
  "language_info": {
   "codemirror_mode": {
    "name": "ipython",
    "version": 3
   },
   "file_extension": ".py",
   "mimetype": "text/x-python",
   "name": "python",
   "nbconvert_exporter": "python",
   "pygments_lexer": "ipython3",
   "version": "3.9.12"
  },
  "orig_nbformat": 4,
  "vscode": {
   "interpreter": {
    "hash": "1551151381e773f0aad4d7f5dd85d557969b09f98d8f1647db122078155b292b"
   }
  }
 },
 "nbformat": 4,
 "nbformat_minor": 2
}
