{
 "cells": [
  {
   "cell_type": "code",
   "execution_count": 1,
   "metadata": {},
   "outputs": [],
   "source": [
    "from selenium import webdriver\n",
    "from selenium.webdriver.common.by import By\n",
    "\n",
    "from selenium.webdriver.chrome.options import Options\n",
    "\n",
    "from selenium.webdriver.support import expected_conditions as EC  # condiciones esperadas...\n",
    "\n",
    "from selenium.webdriver import ActionChains as AC   # acciones encadenadas, rollo doble click\n",
    "\n",
    "from selenium.webdriver.common.keys import Keys  # manejar teclas\n",
    "\n",
    "import time\n",
    "\n",
    "import pandas as pd\n",
    "pd.set_option('display.max_columns', None)   \n",
    "pd.set_option('display.max_rows', None)\n",
    "\n",
    "from webdriver_manager.chrome import ChromeDriverManager\n",
    "\n",
    "PATH=ChromeDriverManager().install()\n",
    "\n",
    "import warnings\n",
    "warnings.filterwarnings('ignore')\n",
    "\n",
    "opciones=Options()\n",
    "\n",
    "# quita la bandera de ser robot\n",
    "opciones.add_experimental_option('excludeSwitches', ['enable-automation'])\n",
    "opciones.add_experimental_option('useAutomationExtension', False)\n",
    "\n",
    "opciones.headless=False   # si True, no aparece la ventana (headless=no visible)\n",
    "\n",
    "opciones.add_argument('--start-maximized')         # comienza maximizado\n",
    "\n",
    "#opciones.add_extension('driver/adblock.crx')       # adblocker\n",
    "\n",
    "opciones.add_argument('user-data-dir=selenium')    # mantiene las coockies\n",
    "\n",
    "import Utils\n",
    "from datetime import date\n",
    "\n",
    "from decouple import config\n",
    "user_spoty = config('user_spoty', default='')\n",
    "pass_spoty = config('pass_spoty', default='')\n",
    "\n",
    "from joblib import Parallel, delayed\n"
   ]
  },
  {
   "cell_type": "code",
   "execution_count": 2,
   "metadata": {},
   "outputs": [],
   "source": [
    "autores1=pd.read_csv('../data/autores.csv')\n",
    "autores2=pd.read_csv('../data/autores_2.csv')\n",
    "autores3=pd.read_csv('../data/autores_3.csv')\n",
    "lst=[autores1,autores2,autores3]\n",
    "autores=pd.concat(lst)"
   ]
  },
  {
   "cell_type": "code",
   "execution_count": 22,
   "metadata": {},
   "outputs": [],
   "source": [
    "csvs=['2017','2018','2019','2020','2021','2022']\n",
    "autores=[]\n",
    "lst_autores=[]\n",
    "tmp=[]\n",
    "\n",
    "import re\n",
    "\n",
    "for i in csvs:\n",
    "    lista_globa_spoty=pd.read_csv(f'../data/lista{i}.csv')\n",
    "    for autor in lista_globa_spoty.artist_names:\n",
    "    \n",
    "        autor.strip()\n",
    "        palabra=autor.split(',')\n",
    "    \n",
    "    \n",
    "        for i in range(len(palabra)):\n",
    "            autores.append(palabra[i])\n",
    "        \n",
    "    lst_autores.append(autores)"
   ]
  },
  {
   "cell_type": "code",
   "execution_count": 23,
   "metadata": {},
   "outputs": [
    {
     "data": {
      "text/plain": [
       "4264248"
      ]
     },
     "execution_count": 23,
     "metadata": {},
     "output_type": "execute_result"
    }
   ],
   "source": [
    "lst_prueba=[]\n",
    "lst_prueba.extend(lst_autores[0])\n",
    "lst_prueba.extend(lst_autores[1])\n",
    "lst_prueba.extend(lst_autores[2])\n",
    "lst_prueba.extend(lst_autores[3])\n",
    "lst_prueba.extend(lst_autores[4])\n",
    "lst_prueba.extend(lst_autores[5])\n",
    "\n",
    "len(lst_prueba)"
   ]
  },
  {
   "cell_type": "code",
   "execution_count": 24,
   "metadata": {},
   "outputs": [],
   "source": [
    "lst_prueba=list(set(lst_prueba))"
   ]
  },
  {
   "cell_type": "code",
   "execution_count": 25,
   "metadata": {},
   "outputs": [
    {
     "data": {
      "text/plain": [
       "2915"
      ]
     },
     "execution_count": 25,
     "metadata": {},
     "output_type": "execute_result"
    }
   ],
   "source": [
    "len(lst_prueba)"
   ]
  },
  {
   "cell_type": "code",
   "execution_count": 19,
   "metadata": {},
   "outputs": [],
   "source": [
    "uniooon=pd.DataFrame(lst_prueba, columns=['autor'])"
   ]
  },
  {
   "cell_type": "code",
   "execution_count": null,
   "metadata": {},
   "outputs": [],
   "source": [
    "uniooon.head()"
   ]
  },
  {
   "cell_type": "code",
   "execution_count": 21,
   "metadata": {},
   "outputs": [],
   "source": [
    "uniooon.to_excel('../data/autores.xls',index=False,index_label=False)"
   ]
  },
  {
   "cell_type": "code",
   "execution_count": 41,
   "metadata": {},
   "outputs": [],
   "source": [
    "def extraer_autores(autor):\n",
    "    \n",
    "    driver=webdriver.Chrome(PATH)\n",
    "    driver.get('https://everynoise.com/engenremap.html')\n",
    "    \n",
    "    time.sleep(2)\n",
    "    iframe=driver.find_element(By.XPATH, '/html/body/iframe')\n",
    "\n",
    "    driver.switch_to.frame(iframe)\n",
    "    \n",
    "    input_autor=driver.find_element(By.XPATH, '/html/body/form/input[1]')\n",
    "    \n",
    "    time.sleep(2)\n",
    "    \n",
    "    input_autor.send_keys(str(autor))  # escribe texto\n",
    "\n",
    "    input_autor.send_keys(u'\\ue007')  # tecla ENTER\n",
    "\n",
    "    time.sleep(2)\n",
    "    \n",
    "    datos=driver.find_element(By.XPATH,'/html/body/div').text\n",
    "    \n",
    "    \n",
    "    \n",
    "    \n",
    "    cadena_final=datos\n",
    "    \n",
    "    #cadena_final=pd.DataFrame(cadena_final)\n",
    "    \n",
    "    driver.quit()\n",
    "    \n",
    "    return cadena_final"
   ]
  },
  {
   "cell_type": "code",
   "execution_count": 53,
   "metadata": {},
   "outputs": [],
   "source": [
    "driver=webdriver.Chrome(PATH)\n",
    "driver.get('https://everynoise.com/engenremap.html')\n",
    "    \n",
    "time.sleep(2)\n",
    "iframe=driver.find_element(By.XPATH, '/html/body/iframe')\n",
    "\n",
    "driver.switch_to.frame(iframe)\n",
    "ttt=[]\n",
    "for i in lst_prueba[670:]:\n",
    "    \n",
    "    ttt.append(extraer_autores(i))"
   ]
  },
  {
   "cell_type": "code",
   "execution_count": 46,
   "metadata": {},
   "outputs": [
    {
     "data": {
      "text/plain": [
       "670"
      ]
     },
     "execution_count": 46,
     "metadata": {},
     "output_type": "execute_result"
    }
   ],
   "source": [
    "len(ttt)"
   ]
  },
  {
   "cell_type": "code",
   "execution_count": 48,
   "metadata": {},
   "outputs": [],
   "source": [
    "uniooon=pd.DataFrame(columns=['autor','estilo'])\n",
    "for a,e in zip(lst_prueba[:671],ttt):\n",
    "    uniooon=uniooon.append({'autor':a, 'estilo':e},ignore_index=True)"
   ]
  },
  {
   "cell_type": "code",
   "execution_count": 49,
   "metadata": {},
   "outputs": [],
   "source": [
    "uniooon.to_csv('../data/autores_1.csv',index=False,index_label=False)"
   ]
  }
 ],
 "metadata": {
  "kernelspec": {
   "display_name": "base",
   "language": "python",
   "name": "python3"
  },
  "language_info": {
   "codemirror_mode": {
    "name": "ipython",
    "version": 3
   },
   "file_extension": ".py",
   "mimetype": "text/x-python",
   "name": "python",
   "nbconvert_exporter": "python",
   "pygments_lexer": "ipython3",
   "version": "3.9.12 (main, Apr  4 2022, 05:22:27) [MSC v.1916 64 bit (AMD64)]"
  },
  "orig_nbformat": 4,
  "vscode": {
   "interpreter": {
    "hash": "1551151381e773f0aad4d7f5dd85d557969b09f98d8f1647db122078155b292b"
   }
  }
 },
 "nbformat": 4,
 "nbformat_minor": 2
}
