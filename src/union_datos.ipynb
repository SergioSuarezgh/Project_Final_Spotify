{
 "cells": [
  {
   "cell_type": "code",
   "execution_count": 1,
   "metadata": {},
   "outputs": [],
   "source": [
    "import pandas as pd\n",
    "pd.set_option('display.max_columns', None)   \n",
    "pd.set_option('display.max_rows', None)\n"
   ]
  },
  {
   "cell_type": "code",
   "execution_count": 2,
   "metadata": {},
   "outputs": [],
   "source": [
    "#Cargamos los csv con las listas de Spotify por años y las unimos\n",
    "\n",
    "lista2017=pd.read_csv('../data/lista2017.csv')\n",
    "lista2018=pd.read_csv('../data/lista2018.csv')\n",
    "lista2019=pd.read_csv('../data/lista2019.csv')\n",
    "lista2020=pd.read_csv('../data/lista2020.csv')\n",
    "lista2021=pd.read_csv('../data/lista2021.csv')\n",
    "lista2022=pd.read_csv('../data/lista2022.csv')\n",
    "\n",
    "lst=[lista2017,lista2018,lista2019,lista2020,lista2021,lista2022]\n",
    "listas=pd.concat(lst)"
   ]
  },
  {
   "cell_type": "code",
   "execution_count": 27,
   "metadata": {},
   "outputs": [],
   "source": [
    "#Limpiamos los nombres de los artistas cortandolos y dejandolos en minuscula y los guardamos\n",
    "\n",
    "lista2017.artist_names=lista2017.artist_names.apply(lambda x: x.strip().lower())\n",
    "lista2018.artist_names=lista2018.artist_names.apply(lambda x: x.strip().lower())\n",
    "lista2019.artist_names=lista2019.artist_names.apply(lambda x: x.strip().lower())\n",
    "lista2020.artist_names=lista2020.artist_names.apply(lambda x: x.strip().lower())\n",
    "lista2021.artist_names=lista2021.artist_names.apply(lambda x: x.strip().lower())\n",
    "lista2022.artist_names=lista2022.artist_names.apply(lambda x: x.strip().lower())\n",
    "\n",
    "lista2017.to_csv('../data/lista2017.csv',index=False,index_label=False)\n",
    "lista2018.to_csv('../data/lista2018.csv',index=False,index_label=False)\n",
    "lista2019.to_csv('../data/lista2019.csv',index=False,index_label=False)\n",
    "lista2020.to_csv('../data/lista2020.csv',index=False,index_label=False)\n",
    "lista2021.to_csv('../data/lista2021.csv',index=False,index_label=False)\n",
    "lista2022.to_csv('../data/lista2022.csv',index=False,index_label=False)\n",
    "\n",
    "\n"
   ]
  },
  {
   "cell_type": "code",
   "execution_count": null,
   "metadata": {},
   "outputs": [],
   "source": [
    "lst_listas=['../data/lista2017.csv','../data/lista2018.csv','../data/lista2019.csv',\n",
    "            '../data/lista2020.csv','../data/lista2021.csv','../data/lista2022.csv']"
   ]
  },
  {
   "cell_type": "code",
   "execution_count": 3,
   "metadata": {},
   "outputs": [],
   "source": [
    "#Cargamos autores\n",
    "autores=pd.read_excel('../data/autores.xls')"
   ]
  },
  {
   "cell_type": "code",
   "execution_count": 4,
   "metadata": {},
   "outputs": [],
   "source": [
    "#Limpiamos la columna de autor en autores \n",
    "autores.autor=autores.autor.apply(lambda x: x.strip().lower())"
   ]
  },
  {
   "cell_type": "code",
   "execution_count": 5,
   "metadata": {},
   "outputs": [
    {
     "name": "stderr",
     "output_type": "stream",
     "text": [
      "C:\\Users\\sersu\\AppData\\Local\\Temp\\ipykernel_10832\\2053706842.py:3: FutureWarning: As the xlwt package is no longer maintained, the xlwt engine will be removed in a future version of pandas. This is the only engine in pandas that supports writing in the xls format. Install openpyxl and write to an xlsx file instead. You can set the option io.excel.xls.writer to 'xlwt' to silence this warning. While this option is deprecated and will also raise a warning, it can be globally set and the warning suppressed.\n",
      "  autores.to_excel('../data/autores.xls',index=False,index_label=False)\n"
     ]
    }
   ],
   "source": [
    "#Quitamos los duplicados y guadamos el excel\n",
    "autores=autores.drop_duplicates()\n",
    "\n",
    "autores.to_excel('../data/autores.xls',index=False,index_label=False)"
   ]
  },
  {
   "cell_type": "code",
   "execution_count": 33,
   "metadata": {},
   "outputs": [],
   "source": [
    "#Limpiamos los nombres de artistas de los excel de ciudades\n",
    "madrid=pd.read_csv('../data/madrid.csv')\n",
    "barcelona=pd.read_csv('../data/barcelona.csv')\n",
    "bilbao=pd.read_csv('../data/bilbao.csv')\n",
    "malaga=pd.read_csv('../data/malaga.csv')\n",
    "seville=pd.read_csv('../data/seville.csv')\n",
    "valencia=pd.read_csv('../data/valencia.csv')\n",
    "\n",
    "madrid.artist_names=madrid.artist_names.apply(lambda x: x.strip().lower())\n",
    "barcelona.artist_names=barcelona.artist_names.apply(lambda x: x.strip().lower())\n",
    "bilbao.artist_names=bilbao.artist_names.apply(lambda x: x.strip().lower())\n",
    "malaga.artist_names=malaga.artist_names.apply(lambda x: x.strip().lower())\n",
    "seville.artist_names=seville.artist_names.apply(lambda x: x.strip().lower())\n",
    "valencia.artist_names=valencia.artist_names.apply(lambda x: x.strip().lower())\n",
    "\n",
    "madrid.to_csv('../data/madrid.csv',index=False,index_label=False)\n",
    "barcelona.to_csv('../data/barcelona.csv',index=False,index_label=False)\n",
    "bilbao.to_csv('../data/bilbao.csv',index=False,index_label=False)\n",
    "malaga.to_csv('../data/malaga.csv',index=False,index_label=False)\n",
    "seville.to_csv('../data/seville.csv',index=False,index_label=False)\n",
    "valencia.to_csv('../data/valencia.csv',index=False,index_label=False)"
   ]
  },
  {
   "cell_type": "code",
   "execution_count": 4,
   "metadata": {},
   "outputs": [],
   "source": [
    "#No hacer caso a esto\n",
    "prueba_lst=lista2017.copy()\n",
    "prueba_aut=autores.copy()\n",
    "\n",
    "prueba_lst.reset_index(drop=True)\n",
    "prueba_aut.reset_index(drop=True)\n",
    "\n",
    "prueba_lst['estilo']=None\n",
    "\n"
   ]
  },
  {
   "cell_type": "code",
   "execution_count": null,
   "metadata": {},
   "outputs": [],
   "source": [
    "#No hacer caso a esto\n",
    "for a in range(len(prueba_aut)):\n",
    "    \n",
    "    if prueba_aut.autor[a]=='v':\n",
    "            print('v')\n",
    "    \n",
    "\n",
    "    else:\n",
    "        for i in range(len(prueba_lst)):\n",
    "            if prueba_aut.autor[a] in prueba_lst.artist_names[i]:\n",
    "                \n",
    "                prueba_lst.estilo[i]=prueba_aut.estilo[a]\n",
    "            "
   ]
  },
  {
   "cell_type": "code",
   "execution_count": 17,
   "metadata": {},
   "outputs": [],
   "source": [
    "#Funcion para unir autores con listas \n",
    "def autores_estilo(data,autores='../data/autores.xls'):\n",
    "    df=pd.read_csv(data)\n",
    "    autores=pd.read_excel(autores)\n",
    "    \n",
    "    df.reset_index(drop=True)\n",
    "    autores.reset_index(drop=True)\n",
    "\n",
    "    df['estilo']=None\n",
    "    for a in range(len(autores)):\n",
    "    \n",
    "        if autores.autor[a]=='v':\n",
    "            print('v')\n",
    "    \n",
    "\n",
    "        else:\n",
    "            for i in range(len(df)):\n",
    "                if autores.autor[a] in df.artist_names[i]:\n",
    "                \n",
    "                    df.estilo[i]=autores.estilo[a]\n",
    "    return df\n",
    "    "
   ]
  },
  {
   "cell_type": "code",
   "execution_count": 15,
   "metadata": {},
   "outputs": [],
   "source": [
    "from tqdm.notebook import tqdm\n",
    "from joblib import Parallel, delayed"
   ]
  },
  {
   "cell_type": "code",
   "execution_count": 18,
   "metadata": {},
   "outputs": [
    {
     "data": {
      "application/vnd.jupyter.widget-view+json": {
       "model_id": "70ac8dc1b07d417c81b8cc825dddb624",
       "version_major": 2,
       "version_minor": 0
      },
      "text/plain": [
       "  0%|          | 0/6 [00:00<?, ?it/s]"
      ]
     },
     "metadata": {},
     "output_type": "display_data"
    },
    {
     "name": "stderr",
     "output_type": "stream",
     "text": [
      "[Parallel(n_jobs=-1)]: Using backend LokyBackend with 6 concurrent workers.\n"
     ]
    },
    {
     "ename": "",
     "evalue": "",
     "output_type": "error",
     "traceback": [
      "\u001b[1;31mNo se pudo interrumpir el Kernel. \n",
      "\u001b[1;31mNo se puede iniciar Kernel 'base (Python 3.9.12)' porque se agotó el tiempo de espera de la conexión. \n",
      "\u001b[1;31mVea el [registro] de Jupyter (command:jupyter.viewOutput) para obtener más detalles."
     ]
    }
   ],
   "source": [
    "lst_con_estilo=Parallel(n_jobs=-1, verbose=True)(delayed(autores_estilo)(lista) for lista in tqdm(lst_listas))"
   ]
  },
  {
   "cell_type": "code",
   "execution_count": 10,
   "metadata": {},
   "outputs": [],
   "source": [
    "#Finalmente mergeamos los dos dataframe por autores para que se incluya el genero musical\n",
    "pp=pd.merge(prueba_lst,prueba_aut, left_on=\"artist_names\", right_on='autor', how='left')"
   ]
  }
 ],
 "metadata": {
  "kernelspec": {
   "display_name": "base",
   "language": "python",
   "name": "python3"
  },
  "language_info": {
   "codemirror_mode": {
    "name": "ipython",
    "version": 3
   },
   "file_extension": ".py",
   "mimetype": "text/x-python",
   "name": "python",
   "nbconvert_exporter": "python",
   "pygments_lexer": "ipython3",
   "version": "3.9.12 (main, Apr  4 2022, 05:22:27) [MSC v.1916 64 bit (AMD64)]"
  },
  "orig_nbformat": 4,
  "vscode": {
   "interpreter": {
    "hash": "1551151381e773f0aad4d7f5dd85d557969b09f98d8f1647db122078155b292b"
   }
  }
 },
 "nbformat": 4,
 "nbformat_minor": 2
}
