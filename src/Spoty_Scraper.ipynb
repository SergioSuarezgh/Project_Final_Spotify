{
 "cells": [
  {
   "cell_type": "code",
   "execution_count": null,
   "metadata": {},
   "outputs": [],
   "source": [
    "from datetime import date\n",
    "from typing import Iterator\n",
    "\n",
    "from bs4 import BeautifulSoup\n",
    "from selenium import webdriver\n",
    "from selenium.common.exceptions import TimeoutException\n",
    "from selenium.webdriver.common.by import By\n",
    "from selenium.webdriver.support.wait import WebDriverWait\n",
    "from selenium.webdriver.support import expected_conditions as EC\n",
    "\n",
    "import Utils\n",
    "from Song import *\n",
    "import SongService"
   ]
  },
  {
   "cell_type": "code",
   "execution_count": null,
   "metadata": {},
   "outputs": [],
   "source": [
    "baseURL = 'https://spotifycharts.com/regional/'\n",
    "#countryList = ['cl', 'co', 'ar', 'pe', 'pr', 'uy', 've', 'ec', 'pa', 'mx', 'hn', 'gt', 'cr', 'do', 'es']\n",
    "countryList = ['ec', 'pa', 'mx', 'hn', 'gt', 'cr', 'do', 'es']"
   ]
  },
  {
   "cell_type": "code",
   "execution_count": null,
   "metadata": {},
   "outputs": [],
   "source": [
    "class SpotifyScrapper:\n",
    "\n",
    "    def requestAndObtainTopSongs(self, country: str, date: str, driver) -> Iterator[Song]:\n",
    "        driver.get(baseURL + '{}/daily/{}'.format(country, date))\n",
    "        delay = 20\n",
    "        try:\n",
    "            WebDriverWait(driver, delay).until(\n",
    "                EC.presence_of_element_located((By.CLASS_NAME, 'Table__TableElement-evwssh-0 jaKCLL styled__StyledTable-sc-135veyd-7 QMWIc')))\n",
    "            generalDetails: BeautifulSoup = BeautifulSoup(driver.page_source, \"html.parser\")\n",
    "            songsList = generalDetails.find('table', {'class': 'Table__TableElement-evwssh-0 jaKCLL styled__StyledTable-sc-135veyd-7 QMWIc'}) \\\n",
    "                            .find_all('tr')[1:]\n",
    "            return map(\n",
    "                lambda songRaw: self.parseSong(songRaw, country, date),\n",
    "                songsList\n",
    "            )\n",
    "\n",
    "        except TimeoutException:\n",
    "            print(\"Loading took too much time!\")\n",
    "            exit()\n",
    "\n",
    "    def parseSong(self, songRaw: BeautifulSoup, country: str, date: str) -> Song:\n",
    "        nameAndArtist = songRaw.find('td', {'class': 'chart-table-track'})\n",
    "        name = nameAndArtist.find('strong').getText() \\\n",
    "            .replace(\"\\\"\", \"\")\\\n",
    "            .strip()\n",
    "        artist = nameAndArtist.find('span').getText()\\\n",
    "            .replace(\"by\", \"\")\\\n",
    "            .replace(\"\\\"\", \"\")\\\n",
    "            .strip()\n",
    "        position = songRaw.find('td', {'class': 'chart-table-position'}).getText()\n",
    "        return Song(int(position), name, artist, date, country)\n",
    "\n",
    "\n",
    "if __name__ == '__main__':\n",
    "\n",
    "    dateRange = Utils.generateMonthlyDateRange(date(2019, 1, 1), date(2021, 8, 1))\n",
    "    driver = webdriver.Chrome(\n",
    "        executable_path=r'C:\\\\webdrivers\\\\chromedriver.exe'\n",
    "    )\n",
    "    songService = SongService()\n",
    "    for country in countryList:\n",
    "        for dateObj in dateRange:\n",
    "            songs = list(SpotifyScrapper().requestAndObtainTopSongs(\n",
    "                country,\n",
    "                dateObj.strftime(\"%Y-%m-%d\"),\n",
    "                driver\n",
    "            ))\n",
    "            for song in songs:\n",
    "                songService.save(song)"
   ]
  }
 ],
 "metadata": {
  "kernelspec": {
   "display_name": "Python 3.9.12 ('base')",
   "language": "python",
   "name": "python3"
  },
  "language_info": {
   "name": "python",
   "version": "3.9.12"
  },
  "orig_nbformat": 4,
  "vscode": {
   "interpreter": {
    "hash": "1551151381e773f0aad4d7f5dd85d557969b09f98d8f1647db122078155b292b"
   }
  }
 },
 "nbformat": 4,
 "nbformat_minor": 2
}
