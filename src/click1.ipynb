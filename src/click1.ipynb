{
 "cells": [
  {
   "cell_type": "code",
   "execution_count": 1,
   "metadata": {},
   "outputs": [],
   "source": [
    "from selenium import webdriver\n",
    "from selenium.webdriver.common.by import By\n",
    "\n",
    "from selenium.webdriver.chrome.options import Options\n",
    "\n",
    "from selenium.webdriver.support import expected_conditions as EC  # condiciones esperadas...\n",
    "\n",
    "from selenium.webdriver import ActionChains as AC   # acciones encadenadas, rollo doble click\n",
    "\n",
    "from selenium.webdriver.common.keys import Keys  # manejar teclas\n",
    "\n",
    "import time\n",
    "\n",
    "import pandas as pd\n",
    "pd.set_option('display.max_columns', None)   \n",
    "pd.set_option('display.max_rows', None)\n",
    "\n",
    "from webdriver_manager.chrome import ChromeDriverManager\n",
    "\n",
    "PATH=ChromeDriverManager().install()\n",
    "\n",
    "import warnings\n",
    "warnings.filterwarnings('ignore')\n",
    "\n",
    "opciones=Options()\n",
    "\n",
    "# quita la bandera de ser robot\n",
    "opciones.add_experimental_option('excludeSwitches', ['enable-automation'])\n",
    "opciones.add_experimental_option('useAutomationExtension', False)\n",
    "\n",
    "opciones.headless=False   # si True, no aparece la ventana (headless=no visible)\n",
    "\n",
    "opciones.add_argument('--start-maximized')         # comienza maximizado\n",
    "\n",
    "#opciones.add_extension('driver/adblock.crx')       # adblocker\n",
    "\n",
    "opciones.add_argument('user-data-dir=selenium')    # mantiene las coockies\n",
    "\n",
    "import Utils\n",
    "from datetime import date\n",
    "\n",
    "from decouple import config\n",
    "user_spoty = config('user_spoty', default='')\n",
    "pass_spoty = config('pass_spoty', default='')\n",
    "\n",
    "from joblib import Parallel, delayed"
   ]
  },
  {
   "cell_type": "code",
   "execution_count": 2,
   "metadata": {},
   "outputs": [],
   "source": [
    "def extracion_csv(url,fecha):\n",
    "    driver=webdriver.Chrome(PATH)\n",
    "    driver.get(url)\n",
    "        \n",
    "    time.sleep(2)\n",
    "\n",
    "    boton_login=driver.find_element(By.XPATH,'//*[@id=\"__next\"]/div/div/main/div[2]/div/header/div/div[2]/a[3]/div[1]').click()\n",
    "        \n",
    "    time.sleep(2)\n",
    "        \n",
    "    input_mail=driver.find_element(By.XPATH,'//*[@id=\"login-username\"]')\n",
    "        \n",
    "    input_mail.send_keys(user_spoty)  # escribe texto\n",
    "\n",
    "    input_clave=driver.find_element(By.XPATH,'//*[@id=\"login-password\"]')\n",
    "        \n",
    "        \n",
    "    input_clave.send_keys(pass_spoty)\n",
    "        \n",
    "    boton_acceso=driver.find_element(By.XPATH,'//*[@id=\"login-button\"]/div[1]/p').click()\n",
    "        \n",
    "    time.sleep(4)\n",
    "    \n",
    "    cookies=driver.find_element(By.XPATH,'//*[@id=\"onetrust-accept-btn-handler\"]').click()\n",
    "       \n",
    "        \n",
    "        \n",
    "    driver.get('https://charts.spotify.com/charts/view/regional-global-daily/2017-01-01')\n",
    "\n",
    "    time.sleep(4)\n",
    "    \n",
    "    dias = pd.date_range(start='2017-02-01', end='2017-12-31') \n",
    "    for i in dias:\n",
    "        time.sleep(2)\n",
    "        driver.get(f'https://charts.spotify.com/charts/view/regional-global-daily/'+i.strftime(\"%Y-%m-%d\"))\n",
    "        \n",
    "        time.sleep(3)\n",
    "        boton_descarga=driver.find_element(By.XPATH,'//*[@id=\"__next\"]/div/div/main/div[2]/div[3]/div/div/a/button')\n",
    "        \n",
    "        \n",
    "        webdriver.ActionChains(driver).move_to_element(boton_descarga ).click(boton_descarga ).perform()\n",
    "        time.sleep(3)"
   ]
  },
  {
   "cell_type": "code",
   "execution_count": 4,
   "metadata": {},
   "outputs": [],
   "source": [
    "def extracion_csv(url):\n",
    "    \n",
    "    '''\n",
    "    Esta función extrae los csv de cada fecha de la pagina de spotify chart. Entra una url y dentro de la función\n",
    "    hay que poner la fecha de inicion y fin\n",
    "    No tiene return porque lo que hace es extraer los csv a una carpeta\n",
    "    \n",
    "    '''\n",
    "    driver=webdriver.Chrome(PATH)\n",
    "    driver.get(url)\n",
    "        \n",
    "    time.sleep(2)\n",
    "\n",
    "    boton_login=driver.find_element(By.XPATH,'//*[@id=\"__next\"]/div/div/main/div[2]/div/header/div/div[2]/a[3]/div[1]').click()\n",
    "        \n",
    "    time.sleep(2)\n",
    "        \n",
    "    input_mail=driver.find_element(By.XPATH,'//*[@id=\"login-username\"]')\n",
    "        \n",
    "    input_mail.send_keys(user_spoty)  # escribe texto\n",
    "\n",
    "    input_clave=driver.find_element(By.XPATH,'//*[@id=\"login-password\"]')\n",
    "        \n",
    "        \n",
    "    input_clave.send_keys(pass_spoty)\n",
    "        \n",
    "    boton_acceso=driver.find_element(By.XPATH,'//*[@id=\"login-button\"]/div[1]/p').click()\n",
    "        \n",
    "    time.sleep(4)\n",
    "    \n",
    "    cookies=driver.find_element(By.XPATH,'//*[@id=\"onetrust-accept-btn-handler\"]').click()\n",
    "       \n",
    "        \n",
    "        \n",
    "    driver.get('https://charts.spotify.com/charts/view/regional-global-daily/2017-01-01')\n",
    "\n",
    "    time.sleep(4)\n",
    "    \n",
    "    dias = pd.date_range(start='2018-01-01', end='2018-12-08') \n",
    "    for i in dias:\n",
    "        time.sleep(2)\n",
    "        driver.get(f'https://charts.spotify.com/charts/view/regional-global-daily/'+i.strftime(\"%Y-%m-%d\"))\n",
    "        \n",
    "        time.sleep(3)\n",
    "        boton_descarga=driver.find_element(By.XPATH,'//*[@id=\"__next\"]/div/div/main/div[2]/div[3]/div/div/a/button')\n",
    "        \n",
    "        \n",
    "        webdriver.ActionChains(driver).move_to_element(boton_descarga ).click(boton_descarga ).perform()\n",
    "        time.sleep(3)"
   ]
  },
  {
   "cell_type": "code",
   "execution_count": null,
   "metadata": {},
   "outputs": [],
   "source": [
    "extracion_csv('https://charts.spotify.com/charts/view/regional-global-daily/2017-01-01')"
   ]
  },
  {
   "cell_type": "code",
   "execution_count": 19,
   "metadata": {},
   "outputs": [],
   "source": [
    "def cambiar_fecha(fecha):\n",
    "    '''\n",
    "    esta función lo que hace es limpiar y organizar la información en los csvs\n",
    "    '''\n",
    "    fechas=[]\n",
    "    uno=pd.read_csv(f'../../../Downloads/regional-global-daily-{fecha}.csv', index_col=False)\n",
    "    uno['fecha']=fecha\n",
    "    uno['dif']=fecha\n",
    "    uno.rename(columns={'rank':'position'}, inplace=True)\n",
    "    \n",
    "    for i in range(len(uno.fecha)):\n",
    "        if uno.previous_rank[i]==-1:\n",
    "            uno.dif[i]=200-uno.position[i]\n",
    "        else:\n",
    "            uno.dif[i]=uno.position[i]-uno.previous_rank[i]\n",
    "            \n",
    "        \n",
    "        \n",
    "            \n",
    "    \n",
    "    \n",
    "    return uno"
   ]
  },
  {
   "cell_type": "code",
   "execution_count": 20,
   "metadata": {},
   "outputs": [
    {
     "data": {
      "application/vnd.jupyter.widget-view+json": {
       "model_id": "721c0a84574842689f32e24e3fac3987",
       "version_major": 2,
       "version_minor": 0
      },
      "text/plain": [
       "  0%|          | 0/365 [00:00<?, ?it/s]"
      ]
     },
     "metadata": {},
     "output_type": "display_data"
    },
    {
     "name": "stderr",
     "output_type": "stream",
     "text": [
      "[Parallel(n_jobs=-1)]: Using backend LokyBackend with 6 concurrent workers.\n",
      "[Parallel(n_jobs=-1)]: Done  38 tasks      | elapsed:   16.1s\n",
      "[Parallel(n_jobs=-1)]: Done 188 tasks      | elapsed:  1.1min\n"
     ]
    },
    {
     "name": "stdout",
     "output_type": "stream",
     "text": [
      "hola\n"
     ]
    },
    {
     "name": "stderr",
     "output_type": "stream",
     "text": [
      "[Parallel(n_jobs=-1)]: Done 365 out of 365 | elapsed:  2.0min finished\n"
     ]
    }
   ],
   "source": [
    "##Ejecutamos la función de cambiar fecha para el año 2017\n",
    "\n",
    "from tqdm.notebook import tqdm \n",
    "dias = pd.date_range(start='2017-01-01', end='2017-12-31') \n",
    "lst_listas=[]\n",
    "\n",
    "lst_listas=Parallel(n_jobs=-1, verbose=True)(delayed(cambiar_fecha)(d.strftime(\"%Y-%m-%d\")) for d in tqdm(dias))\n",
    "lista_globa_spoty=pd.concat(lst_listas)\n",
    "    \n",
    "lista_globa_spoty=lista_globa_spoty.reindex(columns=['fecha','uri','artist_names','track_name','source','position',\n",
    "                                   'previous_rank','dif','peak_rank','days_on_chart','streams'])\n",
    "\n",
    "print('hola')"
   ]
  },
  {
   "cell_type": "code",
   "execution_count": 22,
   "metadata": {},
   "outputs": [],
   "source": [
    "lista_globa_spoty.to_csv('../data/lista2017.csv', index=False,index_label=False)"
   ]
  },
  {
   "cell_type": "code",
   "execution_count": null,
   "metadata": {},
   "outputs": [],
   "source": [
    "def extracion_csv(url):\n",
    "    driver=webdriver.Chrome(PATH)\n",
    "    driver.get(url)\n",
    "        \n",
    "    time.sleep(2)\n",
    "\n",
    "    boton_login=driver.find_element(By.XPATH,'//*[@id=\"__next\"]/div/div/main/div[2]/div/header/div/div[2]/a[3]/div[1]').click()\n",
    "        \n",
    "    time.sleep(2)\n",
    "        \n",
    "    input_mail=driver.find_element(By.XPATH,'//*[@id=\"login-username\"]')\n",
    "        \n",
    "    input_mail.send_keys(user_spoty)  # escribe texto\n",
    "\n",
    "    input_clave=driver.find_element(By.XPATH,'//*[@id=\"login-password\"]')\n",
    "        \n",
    "        \n",
    "    input_clave.send_keys(pass_spoty)\n",
    "        \n",
    "    boton_acceso=driver.find_element(By.XPATH,'//*[@id=\"login-button\"]/div[1]/p').click()\n",
    "        \n",
    "    time.sleep(4)\n",
    "    \n",
    "    cookies=driver.find_element(By.XPATH,'//*[@id=\"onetrust-accept-btn-handler\"]').click()\n",
    "       \n",
    "        \n",
    "        \n",
    "    driver.get('https://charts.spotify.com/charts/view/regional-global-daily/2017-01-01')\n",
    "\n",
    "    time.sleep(4)\n",
    "    \n",
    "    dias = pd.date_range(start='2018-01-01', end='2022-12-08') \n",
    "    for i in dias:\n",
    "        time.sleep(2)\n",
    "        driver.get(f'https://charts.spotify.com/charts/view/regional-global-daily/'+i.strftime(\"%Y-%m-%d\"))\n",
    "        \n",
    "        time.sleep(3)\n",
    "        boton_descarga=driver.find_element(By.XPATH,'//*[@id=\"__next\"]/div/div/main/div[2]/div[3]/div/div/a/button')\n",
    "        \n",
    "        \n",
    "        webdriver.ActionChains(driver).move_to_element(boton_descarga ).click(boton_descarga ).perform()\n",
    "        time.sleep(3)"
   ]
  },
  {
   "cell_type": "code",
   "execution_count": 5,
   "metadata": {},
   "outputs": [],
   "source": [
    "extracion_csv('https://charts.spotify.com/charts/view/regional-global-daily/2017-01-01')"
   ]
  },
  {
   "cell_type": "code",
   "execution_count": 6,
   "metadata": {},
   "outputs": [],
   "source": [
    "def cambiar_fecha(fecha):\n",
    "    fechas=[]\n",
    "    uno=pd.read_csv(f'../../../Downloads/regional-global-daily-{fecha}.csv', index_col=False)\n",
    "    uno['fecha']=fecha\n",
    "    uno['dif']=fecha\n",
    "    uno.rename(columns={'rank':'position'}, inplace=True)\n",
    "    \n",
    "    for i in range(len(uno.fecha)):\n",
    "        if uno.previous_rank[i]==-1:\n",
    "            uno.dif[i]=200-uno.position[i]\n",
    "        else:\n",
    "            uno.dif[i]=uno.position[i]-uno.previous_rank[i]\n",
    "            \n",
    "        \n",
    "        \n",
    "            \n",
    "    \n",
    "    \n",
    "    return uno"
   ]
  },
  {
   "cell_type": "code",
   "execution_count": 7,
   "metadata": {},
   "outputs": [
    {
     "data": {
      "application/vnd.jupyter.widget-view+json": {
       "model_id": "307e1675f155478c9cd940cf2f461fa8",
       "version_major": 2,
       "version_minor": 0
      },
      "text/plain": [
       "  0%|          | 0/365 [00:00<?, ?it/s]"
      ]
     },
     "metadata": {},
     "output_type": "display_data"
    },
    {
     "name": "stderr",
     "output_type": "stream",
     "text": [
      "[Parallel(n_jobs=-1)]: Using backend LokyBackend with 6 concurrent workers.\n",
      "[Parallel(n_jobs=-1)]: Done  38 tasks      | elapsed:   13.0s\n",
      "[Parallel(n_jobs=-1)]: Done 188 tasks      | elapsed:   50.3s\n",
      "[Parallel(n_jobs=-1)]: Done 365 out of 365 | elapsed:  1.5min finished\n"
     ]
    }
   ],
   "source": [
    "from tqdm.notebook import tqdm \n",
    "dias = pd.date_range(start='2018-01-01', end='2018-12-31') \n",
    "lst_listas=[]\n",
    "\n",
    "lst_listas=Parallel(n_jobs=-1, verbose=True)(delayed(cambiar_fecha)(d.strftime(\"%Y-%m-%d\")) for d in tqdm(dias))\n",
    "lista_globa_spoty=pd.concat(lst_listas)\n",
    "    \n",
    "lista_globa_spoty=lista_globa_spoty.reindex(columns=['fecha','uri','artist_names','track_name','source','position',\n",
    "                                   'previous_rank','dif','peak_rank','days_on_chart','streams'])"
   ]
  },
  {
   "cell_type": "code",
   "execution_count": 8,
   "metadata": {},
   "outputs": [],
   "source": [
    "lista_globa_spoty.to_csv('../data/lista2018.csv', index=False,index_label=False)"
   ]
  },
  {
   "cell_type": "code",
   "execution_count": 9,
   "metadata": {},
   "outputs": [
    {
     "data": {
      "application/vnd.jupyter.widget-view+json": {
       "model_id": "132013fb4bc542a68fe7990680afa836",
       "version_major": 2,
       "version_minor": 0
      },
      "text/plain": [
       "  0%|          | 0/365 [00:00<?, ?it/s]"
      ]
     },
     "metadata": {},
     "output_type": "display_data"
    },
    {
     "name": "stderr",
     "output_type": "stream",
     "text": [
      "[Parallel(n_jobs=-1)]: Using backend LokyBackend with 6 concurrent workers.\n",
      "[Parallel(n_jobs=-1)]: Done  38 tasks      | elapsed:   13.5s\n",
      "[Parallel(n_jobs=-1)]: Done 188 tasks      | elapsed:   48.7s\n",
      "[Parallel(n_jobs=-1)]: Done 365 out of 365 | elapsed:  1.6min finished\n"
     ]
    }
   ],
   "source": [
    "from tqdm.notebook import tqdm \n",
    "dias = pd.date_range(start='2019-01-01', end='2019-12-31') \n",
    "lst_listas=[]\n",
    "\n",
    "lst_listas=Parallel(n_jobs=-1, verbose=True)(delayed(cambiar_fecha)(d.strftime(\"%Y-%m-%d\")) for d in tqdm(dias))\n",
    "lista_globa_spoty=pd.concat(lst_listas)\n",
    "    \n",
    "lista_globa_spoty=lista_globa_spoty.reindex(columns=['fecha','uri','artist_names','track_name','source','position',\n",
    "                                   'previous_rank','dif','peak_rank','days_on_chart','streams'])"
   ]
  },
  {
   "cell_type": "code",
   "execution_count": 10,
   "metadata": {},
   "outputs": [],
   "source": [
    "lista_globa_spoty.to_csv('../data/lista2019.csv', index=False,index_label=False)"
   ]
  },
  {
   "cell_type": "code",
   "execution_count": 11,
   "metadata": {},
   "outputs": [
    {
     "data": {
      "application/vnd.jupyter.widget-view+json": {
       "model_id": "7e44934ebd4d4db6a29c9ed43806eba1",
       "version_major": 2,
       "version_minor": 0
      },
      "text/plain": [
       "  0%|          | 0/366 [00:00<?, ?it/s]"
      ]
     },
     "metadata": {},
     "output_type": "display_data"
    },
    {
     "name": "stderr",
     "output_type": "stream",
     "text": [
      "[Parallel(n_jobs=-1)]: Using backend LokyBackend with 6 concurrent workers.\n",
      "[Parallel(n_jobs=-1)]: Done  38 tasks      | elapsed:   12.4s\n",
      "[Parallel(n_jobs=-1)]: Done 188 tasks      | elapsed:  1.0min\n",
      "[Parallel(n_jobs=-1)]: Done 366 out of 366 | elapsed:  1.9min finished\n"
     ]
    }
   ],
   "source": [
    "from tqdm.notebook import tqdm \n",
    "dias = pd.date_range(start='2020-01-01', end='2020-12-31') \n",
    "lst_listas=[]\n",
    "\n",
    "lst_listas=Parallel(n_jobs=-1, verbose=True)(delayed(cambiar_fecha)(d.strftime(\"%Y-%m-%d\")) for d in tqdm(dias))\n",
    "lista_globa_spoty=pd.concat(lst_listas)\n",
    "    \n",
    "lista_globa_spoty=lista_globa_spoty.reindex(columns=['fecha','uri','artist_names','track_name','source','position',\n",
    "                                   'previous_rank','dif','peak_rank','days_on_chart','streams'])"
   ]
  },
  {
   "cell_type": "code",
   "execution_count": 12,
   "metadata": {},
   "outputs": [],
   "source": [
    "lista_globa_spoty.to_csv('../data/lista2020.csv', index=False,index_label=False)"
   ]
  },
  {
   "cell_type": "code",
   "execution_count": 13,
   "metadata": {},
   "outputs": [
    {
     "data": {
      "application/vnd.jupyter.widget-view+json": {
       "model_id": "6b02a86048da4ab095bb9f883d5416ea",
       "version_major": 2,
       "version_minor": 0
      },
      "text/plain": [
       "  0%|          | 0/365 [00:00<?, ?it/s]"
      ]
     },
     "metadata": {},
     "output_type": "display_data"
    },
    {
     "name": "stderr",
     "output_type": "stream",
     "text": [
      "[Parallel(n_jobs=-1)]: Using backend LokyBackend with 6 concurrent workers.\n",
      "[Parallel(n_jobs=-1)]: Done  38 tasks      | elapsed:   11.3s\n",
      "[Parallel(n_jobs=-1)]: Done 188 tasks      | elapsed:   52.6s\n",
      "[Parallel(n_jobs=-1)]: Done 365 out of 365 | elapsed:  1.7min finished\n"
     ]
    }
   ],
   "source": [
    "from tqdm.notebook import tqdm \n",
    "dias = pd.date_range(start='2021-01-01', end='2021-12-31') \n",
    "lst_listas=[]\n",
    "\n",
    "lst_listas=Parallel(n_jobs=-1, verbose=True)(delayed(cambiar_fecha)(d.strftime(\"%Y-%m-%d\")) for d in tqdm(dias))\n",
    "lista_globa_spoty=pd.concat(lst_listas)\n",
    "    \n",
    "lista_globa_spoty=lista_globa_spoty.reindex(columns=['fecha','uri','artist_names','track_name','source','position',\n",
    "                                   'previous_rank','dif','peak_rank','days_on_chart','streams'])"
   ]
  },
  {
   "cell_type": "code",
   "execution_count": 14,
   "metadata": {},
   "outputs": [],
   "source": [
    "lista_globa_spoty.to_csv('../data/lista2021.csv', index=False,index_label=False)"
   ]
  },
  {
   "cell_type": "code",
   "execution_count": 17,
   "metadata": {},
   "outputs": [
    {
     "data": {
      "application/vnd.jupyter.widget-view+json": {
       "model_id": "3d4088f8bdeb4d399652f1207ac5ea0d",
       "version_major": 2,
       "version_minor": 0
      },
      "text/plain": [
       "  0%|          | 0/342 [00:00<?, ?it/s]"
      ]
     },
     "metadata": {},
     "output_type": "display_data"
    },
    {
     "name": "stderr",
     "output_type": "stream",
     "text": [
      "[Parallel(n_jobs=-1)]: Using backend LokyBackend with 6 concurrent workers.\n",
      "[Parallel(n_jobs=-1)]: Done  38 tasks      | elapsed:   12.8s\n",
      "[Parallel(n_jobs=-1)]: Done 188 tasks      | elapsed:   50.8s\n",
      "[Parallel(n_jobs=-1)]: Done 342 out of 342 | elapsed:  1.5min finished\n"
     ]
    }
   ],
   "source": [
    "from tqdm.notebook import tqdm \n",
    "dias = pd.date_range(start='2022-01-01', end='2022-12-08') \n",
    "lst_listas=[]\n",
    "\n",
    "lst_listas=Parallel(n_jobs=-1, verbose=True)(delayed(cambiar_fecha)(d.strftime(\"%Y-%m-%d\")) for d in tqdm(dias))\n",
    "lista_globa_spoty=pd.concat(lst_listas)\n",
    "    \n",
    "lista_globa_spoty=lista_globa_spoty.reindex(columns=['fecha','uri','artist_names','track_name','source','position',\n",
    "                                   'previous_rank','dif','peak_rank','days_on_chart','streams'])"
   ]
  },
  {
   "cell_type": "code",
   "execution_count": 18,
   "metadata": {},
   "outputs": [],
   "source": [
    "lista_globa_spoty.to_csv('../data/lista2022.csv', index=False,index_label=False)"
   ]
  },
  {
   "cell_type": "code",
   "execution_count": null,
   "metadata": {},
   "outputs": [],
   "source": [
    "v2017=pd.read_csv('../data/lista2017.csv')\n",
    "v2018=pd.read_csv('../data/lista2018.csv')\n",
    "v2019=pd.read_csv('../data/lista2019.csv')\n",
    "v2020=pd.read_csv('../data/lista2020.csv')\n",
    "v2021=pd.read_csv('../data/lista2021.csv')\n",
    "v2022=pd.read_csv('../data/lista2022.csv')"
   ]
  },
  {
   "cell_type": "code",
   "execution_count": 76,
   "metadata": {},
   "outputs": [],
   "source": [
    "csvs=['2017','2018','2019','2020','2021','2022']\n",
    "autores=[]\n",
    "lst_autores=[]\n",
    "tmp=[]\n",
    "\n",
    "import re\n",
    "\n",
    "for i in csvs:\n",
    "    lista_globa_spoty=pd.read_csv(f'../data/lista{i}.csv')\n",
    "    for autor in lista_globa_spoty.artist_names:\n",
    "    \n",
    "    \n",
    "        palabra=re.findall('[a-zA-Z\\s]+',str(autor))\n",
    "    \n",
    "    \n",
    "        for i in range(len(palabra)):\n",
    "            autores.append(palabra[i])\n",
    "        \n",
    "    lst_autores.append(autores)\n",
    "    \n",
    "\n",
    "\n",
    "    \n"
   ]
  },
  {
   "cell_type": "code",
   "execution_count": 84,
   "metadata": {},
   "outputs": [
    {
     "data": {
      "text/plain": [
       "4556712"
      ]
     },
     "execution_count": 84,
     "metadata": {},
     "output_type": "execute_result"
    }
   ],
   "source": [
    "lst_prueba=[]\n",
    "lst_prueba.extend(lst_autores[0])\n",
    "lst_prueba.extend(lst_autores[1])\n",
    "lst_prueba.extend(lst_autores[2])\n",
    "lst_prueba.extend(lst_autores[3])\n",
    "lst_prueba.extend(lst_autores[4])\n",
    "lst_prueba.extend(lst_autores[5])\n",
    "\n",
    "len(lst_prueba)"
   ]
  },
  {
   "cell_type": "code",
   "execution_count": 85,
   "metadata": {},
   "outputs": [
    {
     "data": {
      "text/plain": [
       "3068"
      ]
     },
     "execution_count": 85,
     "metadata": {},
     "output_type": "execute_result"
    }
   ],
   "source": [
    "lst_prueba=list(set(lst_prueba))\n",
    "len(lst_prueba)"
   ]
  },
  {
   "cell_type": "code",
   "execution_count": null,
   "metadata": {},
   "outputs": [],
   "source": [
    "import re\n",
    "autores=[]\n",
    "for autor in lista_globa_spoty.artist_names:\n",
    "    \n",
    "    \n",
    "    palabra=re.findall('[a-zA-Z\\s]+',str(autor))\n",
    "    print(palabra)\n",
    "    \n",
    "    for i in range(len(palabra)):\n",
    "        autores.append(palabra[i])\n",
    "        \n",
    "autores2=list(set(autores))"
   ]
  },
  {
   "cell_type": "code",
   "execution_count": 92,
   "metadata": {},
   "outputs": [],
   "source": [
    "def extraer_autores(autor):\n",
    "    \n",
    "    driver=webdriver.Chrome(PATH)\n",
    "    driver.get('https://everynoise.com/engenremap.html')\n",
    "    \n",
    "    time.sleep(2)\n",
    "    iframe=driver.find_element(By.XPATH, '/html/body/iframe')\n",
    "\n",
    "    driver.switch_to.frame(iframe)\n",
    "    \n",
    "    input_autor=driver.find_element(By.XPATH, '/html/body/form/input[1]')\n",
    "    \n",
    "    time.sleep(2)\n",
    "    \n",
    "    input_autor.send_keys(str(autor))  # escribe texto\n",
    "\n",
    "    input_autor.send_keys(u'\\ue007')  # tecla ENTER\n",
    "\n",
    "    time.sleep(2)\n",
    "    \n",
    "    datos=driver.find_element(By.XPATH,'/html/body/div').text\n",
    "    \n",
    "    \n",
    "    \n",
    "    \n",
    "    cadena_final=datos\n",
    "    \n",
    "    #cadena_final=pd.DataFrame(cadena_final)\n",
    "    \n",
    "    driver.quit()\n",
    "    \n",
    "    return cadena_final"
   ]
  },
  {
   "cell_type": "code",
   "execution_count": 111,
   "metadata": {},
   "outputs": [],
   "source": [
    "driver=webdriver.Chrome(PATH)\n",
    "driver.get('https://everynoise.com/engenremap.html')\n",
    "    \n",
    "time.sleep(2)\n",
    "iframe=driver.find_element(By.XPATH, '/html/body/iframe')\n",
    "\n",
    "driver.switch_to.frame(iframe)\n",
    "ttt=[]\n",
    "for i in lst_prueba[2230:]:\n",
    "    \n",
    "    ttt.append(extraer_autores(i))"
   ]
  },
  {
   "cell_type": "code",
   "execution_count": 112,
   "metadata": {},
   "outputs": [],
   "source": [
    "uniooon3=pd.DataFrame(columns=['autor','estilo'])\n",
    "for a,e in zip(lst_prueba[2230:],ttt):\n",
    "    uniooon3=uniooon3.append({'autor':a, 'estilo':e},ignore_index=True)"
   ]
  },
  {
   "cell_type": "code",
   "execution_count": 113,
   "metadata": {},
   "outputs": [
    {
     "data": {
      "text/html": [
       "<div>\n",
       "<style scoped>\n",
       "    .dataframe tbody tr th:only-of-type {\n",
       "        vertical-align: middle;\n",
       "    }\n",
       "\n",
       "    .dataframe tbody tr th {\n",
       "        vertical-align: top;\n",
       "    }\n",
       "\n",
       "    .dataframe thead th {\n",
       "        text-align: right;\n",
       "    }\n",
       "</style>\n",
       "<table border=\"1\" class=\"dataframe\">\n",
       "  <thead>\n",
       "    <tr style=\"text-align: right;\">\n",
       "      <th></th>\n",
       "      <th>autor</th>\n",
       "      <th>estilo</th>\n",
       "    </tr>\n",
       "  </thead>\n",
       "  <tbody>\n",
       "    <tr>\n",
       "      <th>833</th>\n",
       "      <td>Dad</td>\n",
       "      <td>Sorry, that one doesn't seem to be on any of t...</td>\n",
       "    </tr>\n",
       "    <tr>\n",
       "      <th>834</th>\n",
       "      <td>Ryan Gosling</td>\n",
       "      <td>hollywood   ☷   ⓘ</td>\n",
       "    </tr>\n",
       "    <tr>\n",
       "      <th>835</th>\n",
       "      <td>Wes</td>\n",
       "      <td>Sorry, that one doesn't seem to be on any of t...</td>\n",
       "    </tr>\n",
       "    <tr>\n",
       "      <th>836</th>\n",
       "      <td>Nirvana</td>\n",
       "      <td>grunge, permanent wave, rock   ☷   ⓘ</td>\n",
       "    </tr>\n",
       "    <tr>\n",
       "      <th>837</th>\n",
       "      <td>Mau y Ricky</td>\n",
       "      <td>pop venezolano, reggaeton, latin pop, urbano l...</td>\n",
       "    </tr>\n",
       "  </tbody>\n",
       "</table>\n",
       "</div>"
      ],
      "text/plain": [
       "            autor                                             estilo\n",
       "833           Dad  Sorry, that one doesn't seem to be on any of t...\n",
       "834  Ryan Gosling                                  hollywood   ☷   ⓘ\n",
       "835           Wes  Sorry, that one doesn't seem to be on any of t...\n",
       "836       Nirvana               grunge, permanent wave, rock   ☷   ⓘ\n",
       "837   Mau y Ricky  pop venezolano, reggaeton, latin pop, urbano l..."
      ]
     },
     "execution_count": 113,
     "metadata": {},
     "output_type": "execute_result"
    }
   ],
   "source": [
    "uniooon3.tail()"
   ]
  },
  {
   "cell_type": "code",
   "execution_count": 114,
   "metadata": {},
   "outputs": [],
   "source": [
    "uniooon3.to_csv('../data/autores_3.csv',index=False,index_label=False)"
   ]
  }
 ],
 "metadata": {
  "kernelspec": {
   "display_name": "base",
   "language": "python",
   "name": "python3"
  },
  "language_info": {
   "codemirror_mode": {
    "name": "ipython",
    "version": 3
   },
   "file_extension": ".py",
   "mimetype": "text/x-python",
   "name": "python",
   "nbconvert_exporter": "python",
   "pygments_lexer": "ipython3",
   "version": "3.9.12"
  },
  "orig_nbformat": 4,
  "vscode": {
   "interpreter": {
    "hash": "1551151381e773f0aad4d7f5dd85d557969b09f98d8f1647db122078155b292b"
   }
  }
 },
 "nbformat": 4,
 "nbformat_minor": 2
}
